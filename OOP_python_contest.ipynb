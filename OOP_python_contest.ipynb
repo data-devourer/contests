{
 "cells": [
  {
   "cell_type": "markdown",
   "id": "631f10c2",
   "metadata": {},
   "source": [
    "# A. Реализация класса\n",
    "$\\begin{array}{|l|l|}\n",
    "\\hline\n",
    "\\text{Ограничение времени} & 1 \\text{ секунда} \\\\\n",
    "\\hline\n",
    "\\text{Ограничение памяти} & 64\\text{Mb} \\\\\n",
    "\\hline\n",
    "\\text{Ввод} & \\text{стандартный ввод или txt-файл} \\\\\n",
    "\\hline\n",
    "\\text{Вывод} & \\text{стандартный вывод или txt-файл} \\\\\n",
    "\\hline\n",
    "\\end{array}$\n",
    "### <u>_Задание_</u>:\n",
    "Реализуйте класс Matrix. Он должен содержать:\n",
    "1. Конструктор от списка списков. Гарантируется, что списки состоят из чисел, не пусты и все имеют одинаковый размер. Конструктор должен копировать содержимое списка списков, т.е. при изменении списков, от которых была сконструирована матрица, содержимое матрицы изменяться не должно\n",
    "2. Метод **\\__str__** переводящий матрицу в строку. При этом элементы внутри одной строки должны быть разделены знаками табуляции, а строки — переносами строк. При этом после каждой строки не должно быть символа табуляции и в конце не должно быть переноса строки\n",
    "3. Метод _size_ без аргументов, возвращающий кортеж вида (число строк, число столбцов) \n",
    "\n",
    "### _Решение_:"
   ]
  },
  {
   "cell_type": "code",
   "execution_count": 1,
   "id": "177b1ced",
   "metadata": {},
   "outputs": [],
   "source": [
    "import copy"
   ]
  },
  {
   "cell_type": "code",
   "execution_count": 2,
   "id": "c1a6f6de",
   "metadata": {},
   "outputs": [],
   "source": [
    "# 1st version\n",
    "\n",
    "class Matrix():\n",
    "    \"\"\"\n",
    "    The class is a versatile tool for handling matrices \n",
    "    in mathematical computations, data analysis, and other applications \n",
    "    that involve linear algebra operations.\n",
    "    \"\"\"\n",
    "    def __init__(self, lst):\n",
    "        self.lst = copy.deepcopy(lst)\n",
    "        \n",
    "    def __str__(self):\n",
    "        string = ''\n",
    "        for i in self.lst:\n",
    "            for j in i:\n",
    "                string += f'{j}\\t'\n",
    "            string = string[:-1] + '\\n'\n",
    "        return string[:-1]\n",
    "    \n",
    "    def size(self):\n",
    "        return (len(self.lst), len(self.lst[0]))"
   ]
  },
  {
   "cell_type": "markdown",
   "id": "fb34ffe1",
   "metadata": {},
   "source": [
    "### _Тестирование_:"
   ]
  },
  {
   "cell_type": "code",
   "execution_count": 3,
   "id": "ff358941",
   "metadata": {
    "scrolled": true
   },
   "outputs": [
    {
     "name": "stdout",
     "output_type": "stream",
     "text": [
      "\n",
      "-----------------(Test #1)-----------------\n",
      "1\t0\n",
      "0\t1\n",
      "2\t0\t0\n",
      "0\t1\t10000\n",
      "-10\t20\t50\t2443\n",
      "-5235\t12\t4324\t4234\n",
      "\n",
      "-----------------(Test #2)-----------------\n",
      "True\n",
      "\n",
      "-----------------(Test #3)-----------------\n",
      "True\n"
     ]
    }
   ],
   "source": [
    "tests = open('OOP_task_1.txt', 'r').read().split('|')\n",
    "\n",
    "for test in range(1, 4):\n",
    "    print(f'\\n-----------------(Test #{test})-----------------')\n",
    "    exec(tests[test-1])"
   ]
  },
  {
   "cell_type": "markdown",
   "id": "9a718584",
   "metadata": {},
   "source": [
    "---"
   ]
  },
  {
   "cell_type": "markdown",
   "id": "48f080e1",
   "metadata": {},
   "source": [
    "# B. Добавить, умножить\n",
    "$\\begin{array}{|l|l|}\n",
    "\\hline\n",
    "\\text{Ограничение времени} & 1 \\text{ секунда} \\\\\n",
    "\\hline\n",
    "\\text{Ограничение памяти} & 64\\text{Mb} \\\\\n",
    "\\hline\n",
    "\\text{Ввод} & \\text{стандартный ввод или txt-файл} \\\\\n",
    "\\hline\n",
    "\\text{Вывод} & \\text{стандартный вывод или txt-файл} \\\\\n",
    "\\hline\n",
    "\\end{array}$\n",
    "### <u>_Задание_</u>:\n",
    "Добавьте в предыдущий класс следующие методы:\n",
    "1. **\\__add__** принимающий вторую матрицу того же размера и возвращающий сумму матриц\n",
    "2. **\\__mul__** принимающий число типа int или float и возвращающий матрицу, умноженную на скаляр\n",
    "3. **\\__rmul__** делающий то же самое, что и **\\__mul__**. Этот метод будет вызван в том случае, аргумент находится справа\n",
    "\n",
    "Например: \\\n",
    "В этом случае вызовется **\\__mul__**: $Matrix([[0, 1], [1, 0]) * 10$ \\\n",
    "В этом случае вызовется **\\__rmul__** (так как у int не определен **\\__mul__** для матрицы справа): $10 * Matrix([[0, 1], [1, 0])$ \\\n",
    "Разумеется, данные методы не должны менять содержимое матрицы\n",
    "### _Решение_:"
   ]
  },
  {
   "cell_type": "code",
   "execution_count": 4,
   "id": "222e6ca6",
   "metadata": {},
   "outputs": [],
   "source": [
    "#2nd version\n",
    "\n",
    "class Matrix():\n",
    "    \"\"\"\n",
    "    The class is a versatile tool for handling matrices \n",
    "    in mathematical computations, data analysis, and other applications \n",
    "    that involve linear algebra operations.\n",
    "    \"\"\"\n",
    "    def __init__(self, lst):\n",
    "        self.lst = copy.deepcopy(lst)\n",
    "        \n",
    "    def __str__(self):\n",
    "        string = ''\n",
    "        for i in self.lst:\n",
    "            for j in i:\n",
    "                string += f'{j}\\t'\n",
    "            string = string[:-1] + '\\n'\n",
    "        return string[:-1]\n",
    "    \n",
    "    def size(self):\n",
    "        return (len(self.lst), len(self.lst[0]))\n",
    "    \n",
    "    def __add__(self, other):\n",
    "        sum_matrix = copy.deepcopy(self.lst)\n",
    "        for i in range(len(self.lst)):\n",
    "            for j in range(len(self.lst[0])):\n",
    "                sum_matrix[i][j] = self.lst[i][j] + other.lst[i][j]\n",
    "        return Matrix(sum_matrix)\n",
    "    \n",
    "    def __mul__(self, other):\n",
    "        return Matrix([[other * j for j in i] for i in self.lst])\n",
    "    \n",
    "    def __rmul__(self, other):\n",
    "        return Matrix([[other * j for j in i] for i in self.lst])"
   ]
  },
  {
   "cell_type": "markdown",
   "id": "24e7c747",
   "metadata": {},
   "source": [
    "### _Тестирование_:"
   ]
  },
  {
   "cell_type": "code",
   "execution_count": 5,
   "id": "527fa3a7",
   "metadata": {},
   "outputs": [
    {
     "name": "stdout",
     "output_type": "stream",
     "text": [
      "\n",
      "-----------------(Test #4)-----------------\n",
      "(3, 2)\n",
      "\n",
      "-----------------(Test #5)-----------------\n",
      "1\t1\t0\n",
      "20\t1\t-1\n",
      "-1\t-2\t1\n",
      "\n",
      "-----------------(Test #6)-----------------\n",
      "15\t15\t0\n",
      "0\t30\t150\n",
      "150\t225\t450\n",
      "15\t15\t0\n",
      "0\t30\t150\n",
      "150\t225\t450\n"
     ]
    }
   ],
   "source": [
    "tests = open('OOP_task_2.txt', 'r').read().split('|')\n",
    "\n",
    "for test in range(4, 7):\n",
    "    print(f'\\n-----------------(Test #{test})-----------------')\n",
    "    exec(tests[test-4])"
   ]
  },
  {
   "cell_type": "markdown",
   "id": "272ff171",
   "metadata": {},
   "source": [
    "---"
   ]
  },
  {
   "cell_type": "markdown",
   "id": "7c8624e9",
   "metadata": {},
   "source": [
    "# C. Ошибки, транспонирование\n",
    "$\\begin{array}{|l|l|}\n",
    "\\hline\n",
    "\\text{Ограничение времени} & 1 \\text{ секунда} \\\\\n",
    "\\hline\n",
    "\\text{Ограничение памяти} & 64\\text{Mb} \\\\\n",
    "\\hline\n",
    "\\text{Ввод} & \\text{стандартный ввод или txt-файл} \\\\\n",
    "\\hline\n",
    "\\text{Вывод} & \\text{стандартный вывод или txt-файл} \\\\\n",
    "\\hline\n",
    "\\end{array}$\n",
    "### <u>_Задание_</u>:\n",
    "Добавьте в программу из задачи B класс MatrixError, содержащий внутри _self_ поля _matrix1_ и _matrix2_ (ссылки на матрицы). \\\n",
    "В класс Matrix внесите следующие изменения:\n",
    "1. Добавьте в метод **\\__add__** проверку на ошибки в размере входных данных чтобы при попытке сложить матрицы разных размеров было выброшено исключение MatrixError таким образом, чтобы _matrix1_ поле MatrixError стало первым аргументом **\\__add__**, а _matrix2_ — вторым (второй операнд для сложения)\n",
    "2. Реализуйте метод _transpose_, транспонирующий матрицу и возвращающую результат (данный метод модифицирует экземпляр класса Matrix)\n",
    "3. Реализуйте статический метод transposed, принимающий Matrix и возвращающий транспонированную матрицу. Пример статического метода\n",
    "\n",
    "### _Решение_:"
   ]
  },
  {
   "cell_type": "code",
   "execution_count": 6,
   "id": "21878658",
   "metadata": {},
   "outputs": [],
   "source": [
    "#3rd version\n",
    "\n",
    "class MatrixError(Exception):\n",
    "    def __init__(self, matrix1, matrix2):\n",
    "        self.matrix1 = matrix1\n",
    "        self.matrix2 = matrix2\n",
    "        \n",
    "class Matrix():\n",
    "    \"\"\"\n",
    "    The class is a versatile tool for handling matrices \n",
    "    in mathematical computations, data analysis, and other applications \n",
    "    that involve linear algebra operations.\n",
    "    \"\"\"\n",
    "    def __init__(self, lst):\n",
    "        self.lst = copy.deepcopy(lst)\n",
    "        \n",
    "    def __str__(self):\n",
    "        string = ''\n",
    "        for i in self.lst:\n",
    "            for j in i:\n",
    "                string += f'{j}\\t'\n",
    "            string = string[:-1] + '\\n'\n",
    "        return string[:-1]\n",
    "    \n",
    "    def size(self):\n",
    "        return (len(self.lst), len(self.lst[0]))\n",
    "    \n",
    "    def __add__(self, other):\n",
    "        if len(self.lst) == len(other.lst) and len(self.lst[0]) == len(other.lst[0]):\n",
    "            sum_matrix = copy.deepcopy(self.lst)\n",
    "            for i in range(len(self.lst)):\n",
    "                for j in range(len(self.lst[0])):\n",
    "                    sum_matrix[i][j] = self.lst[i][j] + other.lst[i][j]\n",
    "            return Matrix(sum_matrix)\n",
    "        else:\n",
    "            raise MatrixError(str(Matrix(self.lst)), str(Matrix(other.lst)))\n",
    "            \n",
    "    def __mul__(self, other):\n",
    "        return Matrix([[other * j for j in i] for i in self.lst])\n",
    "    \n",
    "    def __rmul__(self, other):\n",
    "        return Matrix([[other * j for j in i] for i in self.lst])\n",
    "    \n",
    "    def transpose(self):\n",
    "        self.lst = [list(i) for i in list(zip(*self.lst))]\n",
    "        return Matrix(self.lst)\n",
    "    \n",
    "    def transposed(self):\n",
    "        return Matrix([list(i) for i in list(zip(*self.lst))])"
   ]
  },
  {
   "cell_type": "markdown",
   "id": "82a9d3e2",
   "metadata": {},
   "source": [
    "### _Тестирование_:"
   ]
  },
  {
   "cell_type": "code",
   "execution_count": 7,
   "id": "f3ddeae4",
   "metadata": {},
   "outputs": [
    {
     "name": "stdout",
     "output_type": "stream",
     "text": [
      "\n",
      "-----------------(Test #7)-----------------\n",
      "1\t1\t0\n",
      "20\t1\t-1\n",
      "-1\t-2\t1\n",
      "1\t0\t0\n",
      "0\t1\t0\n",
      "0\t0\t1\n",
      "0\t1\t0\n",
      "20\t0\t-1\n",
      "\n",
      "-----------------(Test #8)-----------------\n",
      "10\t10\n",
      "0\t0\n",
      "1\t1\n",
      "10\t0\t1\n",
      "10\t0\t1\n",
      "10\t0\t1\n",
      "10\t0\t1\n",
      "\n",
      "-----------------(Test #9)-----------------\n",
      "10\t10\n",
      "0\t0\n",
      "1\t1\n",
      "10\t0\t1\n",
      "10\t0\t1\n",
      "10\t10\n",
      "0\t0\n",
      "1\t1\n"
     ]
    }
   ],
   "source": [
    "tests = open('OOP_task_3.txt', 'r').read().split('|')\n",
    "\n",
    "for test in range(7, 10):\n",
    "    print(f'\\n-----------------(Test #{test})-----------------')\n",
    "    exec(tests[test-7])"
   ]
  },
  {
   "cell_type": "markdown",
   "id": "0e88b6ae",
   "metadata": {},
   "source": [
    "---"
   ]
  },
  {
   "cell_type": "markdown",
   "id": "855a828a",
   "metadata": {},
   "source": [
    "# D. Умножение\n",
    "$\\begin{array}{|l|l|}\n",
    "\\hline\n",
    "\\text{Ограничение времени} & 1 \\text{ секунда} \\\\\n",
    "\\hline\n",
    "\\text{Ограничение памяти} & 64\\text{Mb} \\\\\n",
    "\\hline\n",
    "\\text{Ввод} & \\text{стандартный ввод или txt-файл} \\\\\n",
    "\\hline\n",
    "\\text{Вывод} & \\text{стандартный вывод или txt-файл} \\\\\n",
    "\\hline\n",
    "\\end{array}$\n",
    "### <u>_Задание_</u>:\n",
    "Внесите следующие изменения в предыдущую программу:\n",
    "- Измените метод **\\__mul__** таким образом, чтобы матрицы можно было умножать как на скаляры, так и на другие матрицы. В случае, если две матрицы перемножить невозможно, то тогда выбросьте ошибку MatrixError. Первая матрица в ошибке – это _self_, вторая – это второй операнд умножения\n",
    "\n",
    "### Решение:"
   ]
  },
  {
   "cell_type": "code",
   "execution_count": 8,
   "id": "b86dbffd",
   "metadata": {},
   "outputs": [],
   "source": [
    "#4th version\n",
    "\n",
    "class MatrixError(Exception):\n",
    "    def __init__(self, matrix1, matrix2):\n",
    "        self.matrix1 = matrix1\n",
    "        self.matrix2 = matrix2\n",
    "        \n",
    "class Matrix():\n",
    "    \"\"\"\n",
    "    The class is a versatile tool for handling matrices \n",
    "    in mathematical computations, data analysis, and other applications \n",
    "    that involve linear algebra operations.\n",
    "    \"\"\"\n",
    "    def __init__(self, lst):\n",
    "        self.lst = copy.deepcopy(lst)\n",
    "        \n",
    "    def __str__(self):\n",
    "        string = ''\n",
    "        for i in self.lst:\n",
    "            for j in i:\n",
    "                string += f'{j}\\t'\n",
    "            string = string[:-1] + '\\n'\n",
    "        return string[:-1]\n",
    "    \n",
    "    def size(self):\n",
    "        return (len(self.lst), len(self.lst[0]))\n",
    "    \n",
    "    def __add__(self, other):\n",
    "        if len(self.lst) == len(other.lst) and len(self.lst[0]) == len(other.lst[0]):\n",
    "            sum_matrix = copy.deepcopy(self.lst)\n",
    "            for i in range(len(self.lst)):\n",
    "                for j in range(len(self.lst[0])):\n",
    "                    sum_matrix[i][j] = self.lst[i][j] + other.lst[i][j]\n",
    "            return Matrix(sum_matrix)\n",
    "        else:\n",
    "            raise MatrixError(str(Matrix(self.lst)), str(Matrix(other.lst)))\n",
    "            \n",
    "    def __mul__(self, other):\n",
    "        if isinstance(other, Matrix) and len(self.lst[0]) == len(other.lst):\n",
    "            mul_matrix = [[0 for j in range(len(other.lst[0]))] for i in range(len(self.lst))]\n",
    "            for i in range(len(self.lst)):\n",
    "                for j in range(len(other.lst[0])):\n",
    "                    curr = 0\n",
    "                    for k in range(len(self.lst[0])):\n",
    "                        curr += self.lst[i][k] * other.lst[k][j]\n",
    "                    mul_matrix[i][j] = curr\n",
    "            return Matrix(mul_matrix)\n",
    "        elif isinstance(other, Matrix):\n",
    "            raise MatrixError(str(Matrix(self.lst)), str(Matrix(other.lst)))\n",
    "        else:\n",
    "            return Matrix([[other * j for j in i] for i in self.lst])\n",
    "    \n",
    "    def __rmul__(self, other):\n",
    "        return Matrix([[other * j for j in i] for i in self.lst])\n",
    "    \n",
    "    def transpose(self):\n",
    "        self.lst = [list(i) for i in list(zip(*self.lst))]\n",
    "        return Matrix(self.lst)\n",
    "    \n",
    "    def transposed(self):\n",
    "        return Matrix([list(i) for i in list(zip(*self.lst))])"
   ]
  },
  {
   "cell_type": "markdown",
   "id": "97fba40f",
   "metadata": {},
   "source": [
    "### _Тестирование_:"
   ]
  },
  {
   "cell_type": "code",
   "execution_count": 9,
   "id": "03d95afb",
   "metadata": {
    "scrolled": false
   },
   "outputs": [
    {
     "name": "stdout",
     "output_type": "stream",
     "text": [
      "\n",
      "-----------------(Test #10)-----------------\n",
      "3\t2\n",
      "-10\t0\n",
      "14\t5\n",
      "5.0\t2.0\t10.0\n",
      "-0.5\t-0.25\t18.0\n",
      "-22.0\t-2.5\t-0.125\n",
      "135\t60\n",
      "253.0\t89.0\n",
      "-42.75\t-44.625\n",
      "3\t2\n",
      "-10\t0\n",
      "14\t5\n",
      "5\t2\t10\n",
      "-0.5\t-0.25\t18\n",
      "-22\t-2.5\t-0.125\n",
      "\n",
      "-----------------(Test #11)-----------------\n",
      "2.5\t1.0\t5.0\n",
      "-0.25\t-0.125\t9.0\n",
      "-11.0\t-1.25\t-0.0625\n",
      "67.5\t30.0\n",
      "126.5\t44.5\n",
      "-21.375\t-22.3125\n",
      "\n",
      "-----------------(Test #12)-----------------\n",
      "25\t10\t50\n",
      "-2.5\t-1.25\t90\n",
      "-110\t-12.5\t-0.625\n",
      "16200\t7200\n",
      "30360.0\t10680.0\n",
      "-5130.0\t-5355.0\n"
     ]
    }
   ],
   "source": [
    "tests = open('OOP_task_4.txt', 'r').read().split('|')\n",
    "\n",
    "for test in range(10, 13):\n",
    "    print(f'\\n-----------------(Test #{test})-----------------')\n",
    "    exec(tests[test-10])"
   ]
  },
  {
   "cell_type": "markdown",
   "id": "2fd9cc93",
   "metadata": {},
   "source": [
    "---"
   ]
  }
 ],
 "metadata": {
  "kernelspec": {
   "display_name": "Python 3 (ipykernel)",
   "language": "python",
   "name": "python3"
  },
  "language_info": {
   "codemirror_mode": {
    "name": "ipython",
    "version": 3
   },
   "file_extension": ".py",
   "mimetype": "text/x-python",
   "name": "python",
   "nbconvert_exporter": "python",
   "pygments_lexer": "ipython3",
   "version": "3.9.13"
  }
 },
 "nbformat": 4,
 "nbformat_minor": 5
}
